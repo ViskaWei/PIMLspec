{
 "cells": [
  {
   "cell_type": "code",
   "execution_count": 1,
   "id": "099230d2-8896-473a-9357-fbfc3524209e",
   "metadata": {},
   "outputs": [],
   "source": [
    "%load_ext autoreload\n",
    "%autoreload 2"
   ]
  },
  {
   "cell_type": "code",
   "execution_count": 2,
   "id": "83539a25-1bee-4548-9aa2-b75d8bafb679",
   "metadata": {},
   "outputs": [],
   "source": [
    "PROJECT_PATH = '/home/swei20/PIML/PIML_spec/'\n",
    "import sys\n",
    "sys.path.insert(0, PROJECT_PATH)"
   ]
  },
  {
   "cell_type": "code",
   "execution_count": 3,
   "id": "c20a53ce-db11-4f53-b2d7-0d114884da86",
   "metadata": {},
   "outputs": [],
   "source": [
    "import os\n",
    "import numpy as np"
   ]
  },
  {
   "cell_type": "code",
   "execution_count": 4,
   "id": "556d087f-15d9-48b7-959a-40d24729eba0",
   "metadata": {},
   "outputs": [
    {
     "data": {
      "text/plain": [
       "'/home/swei20/PIML/PIML_spec/test'"
      ]
     },
     "execution_count": 4,
     "metadata": {},
     "output_type": "execute_result"
    }
   ],
   "source": [
    "os.getcwd()"
   ]
  },
  {
   "cell_type": "code",
   "execution_count": 5,
   "id": "f23d446a-f049-450b-b274-0ded42feeb78",
   "metadata": {},
   "outputs": [],
   "source": [
    "import os\n",
    "env_vars = !cat ../.env\n",
    "for var in env_vars:\n",
    "    key, value = var.split('=')\n",
    "    os.environ[key] = value"
   ]
  },
  {
   "cell_type": "code",
   "execution_count": 26,
   "id": "f1a96498-ed92-4c87-bd95-7c3cda90b9c5",
   "metadata": {},
   "outputs": [],
   "source": [
    "def get_args(f):\n",
    "    DArgvals = {}\n",
    "    for arg in f.keys():\n",
    "        DArgvals[arg] = f[arg][()] \n",
    "    return DArgvals"
   ]
  },
  {
   "cell_type": "code",
   "execution_count": 35,
   "id": "d784c1fc-4113-48ec-ad1d-963dad78c0cc",
   "metadata": {},
   "outputs": [],
   "source": [
    "FILE_PATH=os.path.join(os.environ[\"TEST\"], \"spec.h5\")"
   ]
  },
  {
   "cell_type": "code",
   "execution_count": 36,
   "id": "b2c906db-42cf-4cc7-91dd-f930f67350bc",
   "metadata": {},
   "outputs": [],
   "source": [
    "import h5py\n",
    "with h5py.File(FILE_PATH, 'r') as f:\n",
    "    d =get_args(f)"
   ]
  },
  {
   "cell_type": "code",
   "execution_count": 37,
   "id": "edbb003a-9b55-47d7-a1f1-754766339992",
   "metadata": {},
   "outputs": [
    {
     "data": {
      "text/plain": [
       "dict_keys(['flux', 'fluxF', 'fluxH_mid', 'logflux', 'num_pixel', 'num_spec', 'res', 'sigma_mid', 'sky', 'skyH', 'step', 'wave', 'waveF', 'waveH', 'wavesky'])"
      ]
     },
     "execution_count": 37,
     "metadata": {},
     "output_type": "execute_result"
    }
   ],
   "source": [
    "d.keys()"
   ]
  },
  {
   "cell_type": "code",
   "execution_count": 23,
   "id": "a948b867-06ad-4f5b-9b97-f8ed69943128",
   "metadata": {},
   "outputs": [
    {
     "data": {
      "text/plain": [
       "b'RedM'"
      ]
     },
     "execution_count": 23,
     "metadata": {},
     "output_type": "execute_result"
    }
   ],
   "source": [
    "d[\"arm\"]"
   ]
  },
  {
   "cell_type": "code",
   "execution_count": 9,
   "id": "09b8b352-aca5-46f5-b785-63847802dbb9",
   "metadata": {},
   "outputs": [
    {
     "data": {
      "text/plain": [
       "dict_keys(['arm', 'flux', 'fluxF', 'logflux', 'num_pixel', 'num_spec', 'res', 'sky', 'skyH', 'step', 'wave', 'waveF'])"
      ]
     },
     "execution_count": 9,
     "metadata": {},
     "output_type": "execute_result"
    }
   ],
   "source": [
    "d.keys()"
   ]
  },
  {
   "cell_type": "code",
   "execution_count": 10,
   "id": "a1bb9767-1926-4364-90b8-60680baade51",
   "metadata": {},
   "outputs": [],
   "source": [
    "from spec.center.crust.data.sky import StellarSky"
   ]
  },
  {
   "cell_type": "code",
   "execution_count": 13,
   "id": "e852159f-8397-4e7e-a130-bd0d1aac1590",
   "metadata": {},
   "outputs": [],
   "source": [
    "Sky = StellarSky.from_path(os.path.join(os.environ[\"TEST\"], \"wavesky.npy\"))"
   ]
  },
  {
   "cell_type": "code",
   "execution_count": 40,
   "id": "cc5fc99d-4a73-40ed-b402-64ba787d409e",
   "metadata": {},
   "outputs": [
    {
     "data": {
      "text/plain": [
       "(2204,)"
      ]
     },
     "execution_count": 40,
     "metadata": {},
     "output_type": "execute_result"
    }
   ],
   "source": [
    "d[\"waveH\"].shape"
   ]
  },
  {
   "cell_type": "code",
   "execution_count": 42,
   "id": "8d12b4c6-c1ae-459f-aa8c-3dec74b6bcb1",
   "metadata": {},
   "outputs": [
    {
     "data": {
      "text/plain": [
       "(220,)"
      ]
     },
     "execution_count": 42,
     "metadata": {},
     "output_type": "execute_result"
    }
   ],
   "source": [
    "d[\"wave\"].shape"
   ]
  },
  {
   "cell_type": "code",
   "execution_count": 17,
   "id": "81e76266-3929-4aba-962a-26f5a771748d",
   "metadata": {},
   "outputs": [
    {
     "data": {
      "text/plain": [
       "(2511,)"
      ]
     },
     "execution_count": 17,
     "metadata": {},
     "output_type": "execute_result"
    }
   ],
   "source": [
    "Sky.wave.shape"
   ]
  },
  {
   "cell_type": "code",
   "execution_count": 18,
   "id": "660ec513-792e-4461-9748-95e7d56e28ea",
   "metadata": {},
   "outputs": [
    {
     "ename": "AttributeError",
     "evalue": "'dict' object has no attribute 'arm'",
     "output_type": "error",
     "traceback": [
      "\u001b[0;31m---------------------------------------------------------------------------\u001b[0m",
      "\u001b[0;31mAttributeError\u001b[0m                            Traceback (most recent call last)",
      "\u001b[0;32m/tmp/ipykernel_1995312/2410542871.py\u001b[0m in \u001b[0;36m<module>\u001b[0;34m\u001b[0m\n\u001b[0;32m----> 1\u001b[0;31m \u001b[0md\u001b[0m\u001b[0;34m.\u001b[0m\u001b[0marm\u001b[0m\u001b[0;34m\u001b[0m\u001b[0;34m\u001b[0m\u001b[0m\n\u001b[0m",
      "\u001b[0;31mAttributeError\u001b[0m: 'dict' object has no attribute 'arm'"
     ]
    }
   ],
   "source": [
    "d.arm"
   ]
  },
  {
   "cell_type": "code",
   "execution_count": 24,
   "id": "1baa2d9e-6747-4196-a98f-b7536b78bd9d",
   "metadata": {},
   "outputs": [
    {
     "ename": "SyntaxError",
     "evalue": "cannot assign to function call (1742487330.py, line 4)",
     "output_type": "error",
     "traceback": [
      "\u001b[0;36m  File \u001b[0;32m\"/tmp/ipykernel_1995312/1742487330.py\"\u001b[0;36m, line \u001b[0;32m4\u001b[0m\n\u001b[0;31m    eval(b) = a\u001b[0m\n\u001b[0m    ^\u001b[0m\n\u001b[0;31mSyntaxError\u001b[0m\u001b[0;31m:\u001b[0m cannot assign to function call\n"
     ]
    }
   ],
   "source": [
    "for arg, val in d.items():\n",
    "    a = val[0]\n",
    "    b = arg[0]\n",
    "    eval(b) = a \n",
    "    print(arg, val)\n",
    "    break\n",
    "    # \n"
   ]
  },
  {
   "cell_type": "code",
   "execution_count": null,
   "id": "99d60628-7730-4978-a1f2-f5c5778874eb",
   "metadata": {},
   "outputs": [],
   "source": []
  }
 ],
 "metadata": {
  "kernelspec": {
   "display_name": "Python 3 [viska-tf28]",
   "language": "python",
   "name": "python3-viska-tf28"
  },
  "language_info": {
   "codemirror_mode": {
    "name": "ipython",
    "version": 3
   },
   "file_extension": ".py",
   "mimetype": "text/x-python",
   "name": "python",
   "nbconvert_exporter": "python",
   "pygments_lexer": "ipython3",
   "version": "3.9.7"
  }
 },
 "nbformat": 4,
 "nbformat_minor": 5
}

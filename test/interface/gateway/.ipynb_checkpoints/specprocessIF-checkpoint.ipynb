{
 "cells": [
  {
   "cell_type": "code",
   "execution_count": null,
   "id": "c7d76847-b7b0-406a-8ede-9e82ab6d7177",
   "metadata": {},
   "outputs": [],
   "source": []
  },
  {
   "cell_type": "code",
   "execution_count": 1,
   "id": "13d6ae03-0cb5-4dc1-ad27-052227c50e25",
   "metadata": {},
   "outputs": [],
   "source": [
    "%load_ext autoreload\n",
    "%autoreload 2"
   ]
  },
  {
   "cell_type": "code",
   "execution_count": 9,
   "id": "0f688215-301b-44a9-8288-fba94b4476a8",
   "metadata": {},
   "outputs": [
    {
     "data": {
      "text/plain": [
       "[None, None]"
      ]
     },
     "execution_count": 9,
     "metadata": {},
     "output_type": "execute_result"
    }
   ],
   "source": [
    "PROJECT_PATH = '/home/swei20/PIML/PIML_specIF/'\n",
    "import sys\n",
    "[sys.path.append(i) for i in ['.', '..']]"
   ]
  },
  {
   "cell_type": "code",
   "execution_count": 5,
   "id": "a071e9d7-d843-4b30-ab8f-719084a14ccf",
   "metadata": {},
   "outputs": [],
   "source": [
    "import os\n",
    "env_vars = !cat /home/swei20/PIML/PIML_v1/.env\n",
    "for var in env_vars:\n",
    "    key, value = var.split('=')\n",
    "    os.environ[key] = value"
   ]
  },
  {
   "cell_type": "code",
   "execution_count": 3,
   "id": "23db6dee-de36-4481-a30a-4aaf6f6f549d",
   "metadata": {},
   "outputs": [],
   "source": [
    "import numpy as np\n",
    "import copy\n",
    "import matplotlib.pyplot as plt\n"
   ]
  },
  {
   "cell_type": "code",
   "execution_count": null,
   "id": "c5c0c7f5-6593-4841-bad5-6b977f626045",
   "metadata": {},
   "outputs": [],
   "source": []
  },
  {
   "cell_type": "code",
   "execution_count": 28,
   "id": "75d05b41-d4f1-4d38-bbf4-90dde0371db2",
   "metadata": {},
   "outputs": [],
   "source": [
    "class DaIn():\n",
    "    def __init__(self):\n",
    "        self.OBJECT= {\"SPEC_PATH\": \"/home/swei20/PIML/PIML_specIF/test/testdata/bosz_5000_RHB.h5\"}\n",
    "        self.MODEL = {\n",
    "            \"ResTune\" : {\"type\": \"Alex\", \"param\": {\"step\": 10, \"res\":10000}},\n",
    "            }\n",
    "        self.OP = {\"arm\": \"RedM\"}\n",
    "        self.DATA  = {\"WSKY_PATH\": \"/home/swei20/PIML/PIMLspec/test/testdata/wavesky.npy\"}\n",
    "\n",
    "        self.PARAM = {\n",
    "            \"object\": self.OBJECT,\n",
    "            \"data\"  : self.DATA,\n",
    "            \"op\"    : self.OP,\n",
    "            \"model\" : self.MODEL\n",
    "        }"
   ]
  },
  {
   "cell_type": "code",
   "execution_count": 29,
   "id": "3a08b61e-de35-432d-8b17-d22c03bdda2a",
   "metadata": {},
   "outputs": [],
   "source": [
    "D = DaIn()"
   ]
  },
  {
   "cell_type": "code",
   "execution_count": 54,
   "id": "bf25f9e5-ebf5-4fbb-b0c0-9f2ac47a8a1e",
   "metadata": {},
   "outputs": [],
   "source": [
    "from specIF.gateway.specprocessIF import StellarSpecProcessIF"
   ]
  },
  {
   "cell_type": "code",
   "execution_count": 55,
   "id": "3af4f491-4aa3-487a-944f-58855a887b5f",
   "metadata": {},
   "outputs": [],
   "source": [
    "PIF = StellarSpecProcessIF()"
   ]
  },
  {
   "cell_type": "code",
   "execution_count": 50,
   "id": "734a1160-5237-4ffa-a48c-5caaf8e949c7",
   "metadata": {},
   "outputs": [
    {
     "data": {
      "text/plain": [
       "{'wavesky': array([[3.2000e+03, 3.4999e+03, 3.5017e+03, ..., 1.0990e+04, 1.0995e+04,\n",
       "         1.1000e+04],\n",
       "        [0.0000e+00, 0.0000e+00, 6.5060e-01, ..., 2.5256e+00, 2.5006e+00,\n",
       "         2.8139e+00]])}"
      ]
     },
     "execution_count": 50,
     "metadata": {},
     "output_type": "execute_result"
    }
   ],
   "source": [
    "PIF.OP_DATA"
   ]
  },
  {
   "cell_type": "code",
   "execution_count": 56,
   "id": "72f6a430-9da0-4f66-9a42-bd1ffe75f029",
   "metadata": {},
   "outputs": [
    {
     "ename": "AssertionError",
     "evalue": "",
     "output_type": "error",
     "traceback": [
      "\u001b[0;31m---------------------------------------------------------------------------\u001b[0m",
      "\u001b[0;31mAssertionError\u001b[0m                            Traceback (most recent call last)",
      "\u001b[0;32m/tmp/ipykernel_2296196/3270713912.py\u001b[0m in \u001b[0;36m<module>\u001b[0;34m\u001b[0m\n\u001b[0;32m----> 1\u001b[0;31m \u001b[0mPIF\u001b[0m\u001b[0;34m.\u001b[0m\u001b[0minteract\u001b[0m\u001b[0;34m(\u001b[0m\u001b[0mD\u001b[0m\u001b[0;34m.\u001b[0m\u001b[0mPARAM\u001b[0m\u001b[0;34m)\u001b[0m\u001b[0;34m\u001b[0m\u001b[0;34m\u001b[0m\u001b[0m\n\u001b[0m",
      "\u001b[0;32m~/PIML/PIML_specIF/baseIF/gateway/baseprocessIF.py\u001b[0m in \u001b[0;36minteract\u001b[0;34m(self, PARAM)\u001b[0m\n\u001b[1;32m     46\u001b[0m         \u001b[0mself\u001b[0m\u001b[0;34m.\u001b[0m\u001b[0mset_object\u001b[0m\u001b[0;34m(\u001b[0m\u001b[0mPARAM\u001b[0m\u001b[0;34m[\u001b[0m\u001b[0;34m\"object\"\u001b[0m\u001b[0;34m]\u001b[0m\u001b[0;34m)\u001b[0m\u001b[0;34m\u001b[0m\u001b[0;34m\u001b[0m\u001b[0m\n\u001b[1;32m     47\u001b[0m         \u001b[0mself\u001b[0m\u001b[0;34m.\u001b[0m\u001b[0msetup\u001b[0m\u001b[0;34m(\u001b[0m\u001b[0mPARAM\u001b[0m\u001b[0;34m)\u001b[0m\u001b[0;34m\u001b[0m\u001b[0;34m\u001b[0m\u001b[0m\n\u001b[0;32m---> 48\u001b[0;31m         \u001b[0mself\u001b[0m\u001b[0;34m.\u001b[0m\u001b[0minteract_on_Object\u001b[0m\u001b[0;34m(\u001b[0m\u001b[0mself\u001b[0m\u001b[0;34m.\u001b[0m\u001b[0mObject\u001b[0m\u001b[0;34m)\u001b[0m\u001b[0;34m\u001b[0m\u001b[0;34m\u001b[0m\u001b[0m\n\u001b[0m\u001b[1;32m     49\u001b[0m \u001b[0;34m\u001b[0m\u001b[0m\n\u001b[1;32m     50\u001b[0m     \u001b[0;34m@\u001b[0m\u001b[0mabstractmethod\u001b[0m\u001b[0;34m\u001b[0m\u001b[0;34m\u001b[0m\u001b[0m\n",
      "\u001b[0;32m~/PIML/PIML_specIF/specIF/gateway/specprocessIF.py\u001b[0m in \u001b[0;36minteract_on_Object\u001b[0;34m(self, Spec)\u001b[0m\n\u001b[1;32m     28\u001b[0m     \u001b[0;32mdef\u001b[0m \u001b[0minteract_on_Object\u001b[0m\u001b[0;34m(\u001b[0m\u001b[0mself\u001b[0m\u001b[0;34m,\u001b[0m \u001b[0mSpec\u001b[0m\u001b[0;34m:\u001b[0m \u001b[0mStellarSpec\u001b[0m\u001b[0;34m)\u001b[0m\u001b[0;34m:\u001b[0m\u001b[0;34m\u001b[0m\u001b[0;34m\u001b[0m\u001b[0m\n\u001b[1;32m     29\u001b[0m         \u001b[0mself\u001b[0m\u001b[0;34m.\u001b[0m\u001b[0mProcess\u001b[0m\u001b[0;34m.\u001b[0m\u001b[0mset_process\u001b[0m\u001b[0;34m(\u001b[0m\u001b[0mself\u001b[0m\u001b[0;34m.\u001b[0m\u001b[0mOP_PARAM\u001b[0m\u001b[0;34m,\u001b[0m \u001b[0mself\u001b[0m\u001b[0;34m.\u001b[0m\u001b[0mOP_MODEL\u001b[0m\u001b[0;34m,\u001b[0m \u001b[0mself\u001b[0m\u001b[0;34m.\u001b[0m\u001b[0mOP_DATA\u001b[0m\u001b[0;34m)\u001b[0m\u001b[0;34m\u001b[0m\u001b[0;34m\u001b[0m\u001b[0m\n\u001b[0;32m---> 30\u001b[0;31m         \u001b[0mself\u001b[0m\u001b[0;34m.\u001b[0m\u001b[0mProcess\u001b[0m\u001b[0;34m.\u001b[0m\u001b[0mstart\u001b[0m\u001b[0;34m(\u001b[0m\u001b[0mSpec\u001b[0m\u001b[0;34m)\u001b[0m\u001b[0;34m\u001b[0m\u001b[0;34m\u001b[0m\u001b[0m\n\u001b[0m",
      "\u001b[0;32m~/PIML/PIML_specIF/spec/crust/process/specprocess.py\u001b[0m in \u001b[0;36mstart\u001b[0;34m(self, Spec)\u001b[0m\n\u001b[1;32m     29\u001b[0m         ]\n\u001b[1;32m     30\u001b[0m     \u001b[0;32mdef\u001b[0m \u001b[0mstart\u001b[0m\u001b[0;34m(\u001b[0m\u001b[0mself\u001b[0m\u001b[0;34m,\u001b[0m \u001b[0mSpec\u001b[0m\u001b[0;34m:\u001b[0m \u001b[0mStellarSpec\u001b[0m\u001b[0;34m)\u001b[0m\u001b[0;34m:\u001b[0m\u001b[0;34m\u001b[0m\u001b[0;34m\u001b[0m\u001b[0m\n\u001b[0;32m---> 31\u001b[0;31m         \u001b[0msuper\u001b[0m\u001b[0;34m(\u001b[0m\u001b[0;34m)\u001b[0m\u001b[0;34m.\u001b[0m\u001b[0mstart\u001b[0m\u001b[0;34m(\u001b[0m\u001b[0mSpec\u001b[0m\u001b[0;34m)\u001b[0m\u001b[0;34m\u001b[0m\u001b[0;34m\u001b[0m\u001b[0m\n\u001b[0m",
      "\u001b[0;32m~/PIML/PIML_specIF/spec/crust/process/specprocess.py\u001b[0m in \u001b[0;36mstart\u001b[0;34m(self, Spec)\u001b[0m\n\u001b[1;32m     15\u001b[0m     \u001b[0;32mdef\u001b[0m \u001b[0mstart\u001b[0m\u001b[0;34m(\u001b[0m\u001b[0mself\u001b[0m\u001b[0;34m,\u001b[0m \u001b[0mSpec\u001b[0m\u001b[0;34m:\u001b[0m \u001b[0mBaseSpec\u001b[0m\u001b[0;34m)\u001b[0m\u001b[0;34m:\u001b[0m\u001b[0;34m\u001b[0m\u001b[0;34m\u001b[0m\u001b[0m\n\u001b[1;32m     16\u001b[0m         \u001b[0;32mfor\u001b[0m \u001b[0moperation\u001b[0m \u001b[0;32min\u001b[0m \u001b[0mself\u001b[0m\u001b[0;34m.\u001b[0m\u001b[0moperation_list\u001b[0m\u001b[0;34m:\u001b[0m\u001b[0;34m\u001b[0m\u001b[0;34m\u001b[0m\u001b[0m\n\u001b[0;32m---> 17\u001b[0;31m             \u001b[0moperation\u001b[0m\u001b[0;34m.\u001b[0m\u001b[0mperform_on_Spec\u001b[0m\u001b[0;34m(\u001b[0m\u001b[0mSpec\u001b[0m\u001b[0;34m)\u001b[0m\u001b[0;34m\u001b[0m\u001b[0;34m\u001b[0m\u001b[0m\n\u001b[0m\u001b[1;32m     18\u001b[0m \u001b[0;34m\u001b[0m\u001b[0m\n\u001b[1;32m     19\u001b[0m \u001b[0;34m\u001b[0m\u001b[0m\n",
      "\u001b[0;32m~/PIML/PIML_specIF/spec/crust/operation/specoperation.py\u001b[0m in \u001b[0;36mperform_on_Spec\u001b[0;34m(self, Spec)\u001b[0m\n\u001b[1;32m     31\u001b[0m     \u001b[0;32mdef\u001b[0m \u001b[0mperform_on_Spec\u001b[0m\u001b[0;34m(\u001b[0m\u001b[0mself\u001b[0m\u001b[0;34m,\u001b[0m \u001b[0mSpec\u001b[0m\u001b[0;34m:\u001b[0m \u001b[0mStellarSpec\u001b[0m\u001b[0;34m)\u001b[0m \u001b[0;34m->\u001b[0m \u001b[0mStellarSpec\u001b[0m\u001b[0;34m:\u001b[0m\u001b[0;34m\u001b[0m\u001b[0;34m\u001b[0m\u001b[0m\n\u001b[1;32m     32\u001b[0m         \u001b[0mSpec\u001b[0m\u001b[0;34m.\u001b[0m\u001b[0marm\u001b[0m \u001b[0;34m=\u001b[0m \u001b[0mself\u001b[0m\u001b[0;34m.\u001b[0m\u001b[0marm\u001b[0m\u001b[0;34m\u001b[0m\u001b[0;34m\u001b[0m\u001b[0m\n\u001b[0;32m---> 33\u001b[0;31m         \u001b[0mSpec\u001b[0m\u001b[0;34m.\u001b[0m\u001b[0mwave\u001b[0m \u001b[0;34m=\u001b[0m \u001b[0mself\u001b[0m\u001b[0;34m.\u001b[0m\u001b[0mperform\u001b[0m\u001b[0;34m(\u001b[0m\u001b[0mSpec\u001b[0m\u001b[0;34m.\u001b[0m\u001b[0mwave\u001b[0m\u001b[0;34m)\u001b[0m\u001b[0;34m\u001b[0m\u001b[0;34m\u001b[0m\u001b[0m\n\u001b[0m\u001b[1;32m     34\u001b[0m         \u001b[0mSpec\u001b[0m\u001b[0;34m.\u001b[0m\u001b[0mflux\u001b[0m \u001b[0;34m=\u001b[0m \u001b[0mself\u001b[0m\u001b[0;34m.\u001b[0m\u001b[0msplit\u001b[0m\u001b[0;34m(\u001b[0m\u001b[0mSpec\u001b[0m\u001b[0;34m.\u001b[0m\u001b[0mflux\u001b[0m\u001b[0;34m,\u001b[0m \u001b[0mself\u001b[0m\u001b[0;34m.\u001b[0m\u001b[0msplit_idxs\u001b[0m\u001b[0;34m)\u001b[0m\u001b[0;34m\u001b[0m\u001b[0;34m\u001b[0m\u001b[0m\n\u001b[1;32m     35\u001b[0m         \u001b[0;32mif\u001b[0m \u001b[0mSpec\u001b[0m\u001b[0;34m.\u001b[0m\u001b[0msky\u001b[0m \u001b[0;32mis\u001b[0m \u001b[0;32mnot\u001b[0m \u001b[0;32mNone\u001b[0m\u001b[0;34m:\u001b[0m\u001b[0;34m\u001b[0m\u001b[0;34m\u001b[0m\u001b[0m\n",
      "\u001b[0;32m~/PIML/PIML_specIF/base/crust/baseoperation.py\u001b[0m in \u001b[0;36mperform\u001b[0;34m(self, data)\u001b[0m\n\u001b[1;32m     44\u001b[0m \u001b[0;34m\u001b[0m\u001b[0m\n\u001b[1;32m     45\u001b[0m     \u001b[0;32mdef\u001b[0m \u001b[0mperform\u001b[0m\u001b[0;34m(\u001b[0m\u001b[0mself\u001b[0m\u001b[0;34m,\u001b[0m \u001b[0mdata\u001b[0m\u001b[0;34m)\u001b[0m\u001b[0;34m:\u001b[0m\u001b[0;34m\u001b[0m\u001b[0;34m\u001b[0m\u001b[0m\n\u001b[0;32m---> 46\u001b[0;31m         \u001b[0mself\u001b[0m\u001b[0;34m.\u001b[0m\u001b[0mget_split_idxs\u001b[0m\u001b[0;34m(\u001b[0m\u001b[0mdata\u001b[0m\u001b[0;34m)\u001b[0m\u001b[0;34m\u001b[0m\u001b[0;34m\u001b[0m\u001b[0m\n\u001b[0m\u001b[1;32m     47\u001b[0m         \u001b[0;32mreturn\u001b[0m \u001b[0mself\u001b[0m\u001b[0;34m.\u001b[0m\u001b[0msplit\u001b[0m\u001b[0;34m(\u001b[0m\u001b[0mdata\u001b[0m\u001b[0;34m,\u001b[0m \u001b[0mself\u001b[0m\u001b[0;34m.\u001b[0m\u001b[0msplit_idxs\u001b[0m\u001b[0;34m)\u001b[0m\u001b[0;34m\u001b[0m\u001b[0;34m\u001b[0m\u001b[0m\n\u001b[1;32m     48\u001b[0m \u001b[0;34m\u001b[0m\u001b[0m\n",
      "\u001b[0;32m~/PIML/PIML_specIF/base/crust/baseoperation.py\u001b[0m in \u001b[0;36mget_split_idxs\u001b[0;34m(self, data)\u001b[0m\n\u001b[1;32m     40\u001b[0m \u001b[0;34m\u001b[0m\u001b[0m\n\u001b[1;32m     41\u001b[0m     \u001b[0;32mdef\u001b[0m \u001b[0mget_split_idxs\u001b[0m\u001b[0;34m(\u001b[0m\u001b[0mself\u001b[0m\u001b[0;34m,\u001b[0m \u001b[0mdata\u001b[0m\u001b[0;34m)\u001b[0m\u001b[0;34m:\u001b[0m\u001b[0;34m\u001b[0m\u001b[0;34m\u001b[0m\u001b[0m\n\u001b[0;32m---> 42\u001b[0;31m         \u001b[0;32massert\u001b[0m \u001b[0;34m(\u001b[0m\u001b[0mnp\u001b[0m\u001b[0;34m.\u001b[0m\u001b[0mmin\u001b[0m\u001b[0;34m(\u001b[0m\u001b[0mdata\u001b[0m\u001b[0;34m)\u001b[0m \u001b[0;34m<=\u001b[0m \u001b[0mself\u001b[0m\u001b[0;34m.\u001b[0m\u001b[0mrng\u001b[0m\u001b[0;34m[\u001b[0m\u001b[0;36m0\u001b[0m\u001b[0;34m]\u001b[0m\u001b[0;34m)\u001b[0m \u001b[0;32mand\u001b[0m \u001b[0;34m(\u001b[0m\u001b[0mnp\u001b[0m\u001b[0;34m.\u001b[0m\u001b[0mmax\u001b[0m\u001b[0;34m(\u001b[0m\u001b[0mdata\u001b[0m\u001b[0;34m)\u001b[0m \u001b[0;34m>=\u001b[0m \u001b[0mself\u001b[0m\u001b[0;34m.\u001b[0m\u001b[0mrng\u001b[0m\u001b[0;34m[\u001b[0m\u001b[0;36m1\u001b[0m\u001b[0;34m]\u001b[0m\u001b[0;34m)\u001b[0m\u001b[0;34m\u001b[0m\u001b[0;34m\u001b[0m\u001b[0m\n\u001b[0m\u001b[1;32m     43\u001b[0m         \u001b[0mself\u001b[0m\u001b[0;34m.\u001b[0m\u001b[0msplit_idxs\u001b[0m \u001b[0;34m=\u001b[0m \u001b[0mnp\u001b[0m\u001b[0;34m.\u001b[0m\u001b[0mdigitize\u001b[0m\u001b[0;34m(\u001b[0m\u001b[0mself\u001b[0m\u001b[0;34m.\u001b[0m\u001b[0mrng\u001b[0m\u001b[0;34m,\u001b[0m \u001b[0mdata\u001b[0m\u001b[0;34m)\u001b[0m\u001b[0;34m\u001b[0m\u001b[0;34m\u001b[0m\u001b[0m\n\u001b[1;32m     44\u001b[0m \u001b[0;34m\u001b[0m\u001b[0m\n",
      "\u001b[0;31mAssertionError\u001b[0m: "
     ]
    }
   ],
   "source": [
    "PIF.interact(D.PARAM)"
   ]
  },
  {
   "cell_type": "code",
   "execution_count": 52,
   "id": "6ecbc91d-376a-4c51-b298-f81515f876de",
   "metadata": {},
   "outputs": [
    {
     "data": {
      "text/plain": [
       "{'arm': 'RedM'}"
      ]
     },
     "execution_count": 52,
     "metadata": {},
     "output_type": "execute_result"
    }
   ],
   "source": [
    "PIF.OP_PARAM"
   ]
  },
  {
   "cell_type": "code",
   "execution_count": 53,
   "id": "5f508819-8391-43cd-89be-d56d5c39ae85",
   "metadata": {},
   "outputs": [
    {
     "data": {
      "text/plain": [
       "{'ResTune': {'type': 'Alex', 'param': {'step': 10, 'res': 10000}}}"
      ]
     },
     "execution_count": 53,
     "metadata": {},
     "output_type": "execute_result"
    }
   ],
   "source": [
    "PIF.OP_MODEL"
   ]
  },
  {
   "cell_type": "code",
   "execution_count": 51,
   "id": "646ce025-74e5-4b4c-852c-e460d6018fbe",
   "metadata": {},
   "outputs": [
    {
     "data": {
      "text/plain": [
       "{'wave': array([7103.93535, 7111.04302, 7118.15752, 7125.27919, 7132.40811,\n",
       "        7139.54389, 7146.687  , 7153.83731, 7160.99483, 7168.15929,\n",
       "        7175.33091, 7182.50982, 7189.69599, 7196.88931, 7204.08979,\n",
       "        7211.29745, 7218.51226, 7225.73457, 7232.96373, 7240.20049,\n",
       "        7247.4442 , 7254.69511, 7261.95346, 7269.21914, 7276.4919 ,\n",
       "        7283.77212, 7291.05935, 7298.35411, 7305.65621, 7312.96543,\n",
       "        7320.28208, 7327.60596, 7334.9372 , 7342.27588, 7349.62183,\n",
       "        7356.97509, 7364.3357 , 7371.70382, 7379.07911, 7386.46192,\n",
       "        7393.852  , 7401.24956, 7408.65444, 7416.06675, 7423.48657,\n",
       "        7430.91382, 7438.34849, 7445.79043, 7453.23998, 7460.69695,\n",
       "        7468.16133, 7475.63325, 7483.1125 , 7490.59941, 7498.09378,\n",
       "        7505.59557, 7513.10493, 7520.62169, 7528.14614, 7535.67812,\n",
       "        7543.21735, 7550.76451, 7558.31905, 7565.88106, 7573.45084,\n",
       "        7581.02797, 7588.61283, 7596.20528, 7603.80515, 7611.41284,\n",
       "        7619.02807, 7626.65071, 7634.28116, 7641.91939, 7649.56494,\n",
       "        7657.21835, 7664.8796 , 7672.5481 , 7680.22452, 7687.9085 ,\n",
       "        7695.60029, 7703.29981, 7711.00684, 7718.72167, 7726.44439,\n",
       "        7734.1747 , 7741.9125 , 7749.65845, 7757.41197, 7765.1732 ,\n",
       "        7772.94229, 7780.719  , 7788.50362, 7796.29595, 7804.09629,\n",
       "        7811.90425, 7819.71993, 7827.54365, 7835.3751 , 7843.2144 ,\n",
       "        7851.06148, 7858.91654, 7866.77924, 7874.65001, 7882.52856,\n",
       "        7890.41504, 7898.30953, 7906.21167, 7914.12184, 7922.04   ,\n",
       "        7929.96587, 7937.89965, 7945.84154, 7953.79146, 7961.74932,\n",
       "        7969.71485, 7977.68863, 7985.6703 , 7993.65996, 8001.65755,\n",
       "        8009.66314, 8017.6769 , 8025.69848, 8033.72827, 8041.7659 ,\n",
       "        8049.81168, 8057.86547, 8065.92734, 8073.99731, 8082.07545,\n",
       "        8090.16148, 8098.25572, 8106.35781, 8114.46836, 8122.58683,\n",
       "        8130.71359, 8138.84824, 8146.99115, 8155.1423 , 8163.30152,\n",
       "        8171.46886, 8179.64454, 8187.82812, 8196.02002, 8204.22002,\n",
       "        8212.42842, 8220.64502, 8228.86972, 8237.10264, 8245.34386,\n",
       "        8253.59347, 8261.85107, 8270.1169 , 8278.3914 , 8286.67363,\n",
       "        8294.96455, 8303.26357, 8311.571  , 8319.88682, 8328.21085,\n",
       "        8336.54307, 8344.88399, 8353.23292, 8361.59034, 8369.95614,\n",
       "        8378.33026, 8386.71289, 8395.10371, 8403.50303, 8411.91065,\n",
       "        8420.32675, 8428.75118, 8437.18417, 8445.62549, 8454.07539,\n",
       "        8462.5338 , 8471.00058, 8479.4757 , 8487.95928, 8496.45147,\n",
       "        8504.95216, 8513.46153, 8521.9791 , 8530.50556, 8539.04004,\n",
       "        8547.5834 , 8556.13515, 8564.69561, 8573.26473, 8581.8421 ,\n",
       "        8590.42841, 8599.02305, 8607.62627, 8616.23818, 8624.85895,\n",
       "        8633.48799, 8642.12558, 8650.77226, 8659.42724, 8668.091  ,\n",
       "        8676.7632 , 8685.44453, 8694.13429, 8702.83281, 8711.53994,\n",
       "        8720.25576, 8728.98038, 8737.71386, 8746.45578, 8755.20636,\n",
       "        8763.96639, 8772.73448, 8781.51171, 8790.29725, 8799.09229,\n",
       "        8807.89571, 8816.70791, 8825.52901, 8834.359  , 8843.19765]),\n",
       " 'flux': array([[1614790., 1604300., 1606410., ..., 1123880., 1137350., 1126390.],\n",
       "        [1618510., 1607800., 1609990., ..., 1125890., 1139410., 1128420.],\n",
       "        [1622940., 1611910., 1614210., ..., 1128200., 1141800., 1130710.],\n",
       "        ...,\n",
       "        [3484810., 3402720., 3314550., ..., 2161530., 2131210., 2090250.],\n",
       "        [3505460., 3419960., 3334010., ..., 2172310., 2141410., 2100580.],\n",
       "        [3532140., 3441090., 3359260., ..., 2186390., 2154480., 2114040.]]),\n",
       " 'num_pixel': 220,\n",
       " 'num_spec': 2880,\n",
       " 'arm': None,\n",
       " 'sky': None}"
      ]
     },
     "execution_count": 51,
     "metadata": {},
     "output_type": "execute_result"
    }
   ],
   "source": [
    "PIF.Object.__dict__"
   ]
  },
  {
   "cell_type": "code",
   "execution_count": null,
   "id": "07bfe4b6-cade-4b1b-af97-1a9171a8144b",
   "metadata": {},
   "outputs": [],
   "source": []
  }
 ],
 "metadata": {
  "kernelspec": {
   "display_name": "Python 3 [viska-tf28]",
   "language": "python",
   "name": "python3-viska-tf28"
  },
  "language_info": {
   "codemirror_mode": {
    "name": "ipython",
    "version": 3
   },
   "file_extension": ".py",
   "mimetype": "text/x-python",
   "name": "python",
   "nbconvert_exporter": "python",
   "pygments_lexer": "ipython3",
   "version": "3.9.7"
  }
 },
 "nbformat": 4,
 "nbformat_minor": 5
}
